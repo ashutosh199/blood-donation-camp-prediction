{
 "cells": [
  {
   "cell_type": "code",
   "execution_count": 1,
   "metadata": {},
   "outputs": [],
   "source": [
    "import numpy as np\n",
    "import pandas as pd"
   ]
  },
  {
   "cell_type": "code",
   "execution_count": 2,
   "metadata": {},
   "outputs": [],
   "source": [
    "data=pd.read_csv(\"output.csv323.csv.csv\")"
   ]
  },
  {
   "cell_type": "code",
   "execution_count": 3,
   "metadata": {},
   "outputs": [
    {
     "data": {
      "text/html": [
       "<div>\n",
       "<style scoped>\n",
       "    .dataframe tbody tr th:only-of-type {\n",
       "        vertical-align: middle;\n",
       "    }\n",
       "\n",
       "    .dataframe tbody tr th {\n",
       "        vertical-align: top;\n",
       "    }\n",
       "\n",
       "    .dataframe thead th {\n",
       "        text-align: right;\n",
       "    }\n",
       "</style>\n",
       "<table border=\"1\" class=\"dataframe\">\n",
       "  <thead>\n",
       "    <tr style=\"text-align: right;\">\n",
       "      <th></th>\n",
       "      <th>Unnamed: 0</th>\n",
       "      <th>Address</th>\n",
       "      <th>Lat</th>\n",
       "      <th>Long</th>\n",
       "      <th>Provider</th>\n",
       "    </tr>\n",
       "  </thead>\n",
       "  <tbody>\n",
       "    <tr>\n",
       "      <th>0</th>\n",
       "      <td>0</td>\n",
       "      <td>Mahindra Park, Uttam Nagar, new delhi</td>\n",
       "      <td>28.68453</td>\n",
       "      <td>77.13497</td>\n",
       "      <td>arcgis</td>\n",
       "    </tr>\n",
       "    <tr>\n",
       "      <th>1</th>\n",
       "      <td>1</td>\n",
       "      <td>Mahipalpur, new delhi</td>\n",
       "      <td>28.54843</td>\n",
       "      <td>77.13636</td>\n",
       "      <td>arcgis</td>\n",
       "    </tr>\n",
       "    <tr>\n",
       "      <th>2</th>\n",
       "      <td>2</td>\n",
       "      <td>ROHINI (NEW DELHI), new delhi</td>\n",
       "      <td>28.73352</td>\n",
       "      <td>77.10403</td>\n",
       "      <td>arcgis</td>\n",
       "    </tr>\n",
       "    <tr>\n",
       "      <th>3</th>\n",
       "      <td>3</td>\n",
       "      <td>New Delhi, new delhi</td>\n",
       "      <td>28.63095</td>\n",
       "      <td>77.21728</td>\n",
       "      <td>arcgis</td>\n",
       "    </tr>\n",
       "    <tr>\n",
       "      <th>4</th>\n",
       "      <td>4</td>\n",
       "      <td>Punjabi Bagh, new delhi</td>\n",
       "      <td>28.66634</td>\n",
       "      <td>77.12524</td>\n",
       "      <td>arcgis</td>\n",
       "    </tr>\n",
       "  </tbody>\n",
       "</table>\n",
       "</div>"
      ],
      "text/plain": [
       "   Unnamed: 0                                Address       Lat      Long  \\\n",
       "0           0  Mahindra Park, Uttam Nagar, new delhi  28.68453  77.13497   \n",
       "1           1                  Mahipalpur, new delhi  28.54843  77.13636   \n",
       "2           2          ROHINI (NEW DELHI), new delhi  28.73352  77.10403   \n",
       "3           3                   New Delhi, new delhi  28.63095  77.21728   \n",
       "4           4                Punjabi Bagh, new delhi  28.66634  77.12524   \n",
       "\n",
       "  Provider  \n",
       "0   arcgis  \n",
       "1   arcgis  \n",
       "2   arcgis  \n",
       "3   arcgis  \n",
       "4   arcgis  "
      ]
     },
     "execution_count": 3,
     "metadata": {},
     "output_type": "execute_result"
    }
   ],
   "source": [
    "data.head()"
   ]
  },
  {
   "cell_type": "code",
   "execution_count": 4,
   "metadata": {},
   "outputs": [
    {
     "data": {
      "text/html": [
       "<div>\n",
       "<style scoped>\n",
       "    .dataframe tbody tr th:only-of-type {\n",
       "        vertical-align: middle;\n",
       "    }\n",
       "\n",
       "    .dataframe tbody tr th {\n",
       "        vertical-align: top;\n",
       "    }\n",
       "\n",
       "    .dataframe thead th {\n",
       "        text-align: right;\n",
       "    }\n",
       "</style>\n",
       "<table border=\"1\" class=\"dataframe\">\n",
       "  <thead>\n",
       "    <tr style=\"text-align: right;\">\n",
       "      <th></th>\n",
       "      <th>Unnamed: 0</th>\n",
       "      <th>Address</th>\n",
       "      <th>Lat</th>\n",
       "      <th>Long</th>\n",
       "      <th>Provider</th>\n",
       "    </tr>\n",
       "  </thead>\n",
       "  <tbody>\n",
       "    <tr>\n",
       "      <th>0</th>\n",
       "      <td>0</td>\n",
       "      <td>Mahindra Park, Uttam Nagar, new delhi</td>\n",
       "      <td>28.68453</td>\n",
       "      <td>77.13497</td>\n",
       "      <td>arcgis</td>\n",
       "    </tr>\n",
       "    <tr>\n",
       "      <th>1</th>\n",
       "      <td>1</td>\n",
       "      <td>Mahipalpur, new delhi</td>\n",
       "      <td>28.54843</td>\n",
       "      <td>77.13636</td>\n",
       "      <td>arcgis</td>\n",
       "    </tr>\n",
       "    <tr>\n",
       "      <th>2</th>\n",
       "      <td>2</td>\n",
       "      <td>ROHINI (NEW DELHI), new delhi</td>\n",
       "      <td>28.73352</td>\n",
       "      <td>77.10403</td>\n",
       "      <td>arcgis</td>\n",
       "    </tr>\n",
       "    <tr>\n",
       "      <th>3</th>\n",
       "      <td>3</td>\n",
       "      <td>New Delhi, new delhi</td>\n",
       "      <td>28.63095</td>\n",
       "      <td>77.21728</td>\n",
       "      <td>arcgis</td>\n",
       "    </tr>\n",
       "    <tr>\n",
       "      <th>4</th>\n",
       "      <td>4</td>\n",
       "      <td>Punjabi Bagh, new delhi</td>\n",
       "      <td>28.66634</td>\n",
       "      <td>77.12524</td>\n",
       "      <td>arcgis</td>\n",
       "    </tr>\n",
       "  </tbody>\n",
       "</table>\n",
       "</div>"
      ],
      "text/plain": [
       "   Unnamed: 0                                Address       Lat      Long  \\\n",
       "0           0  Mahindra Park, Uttam Nagar, new delhi  28.68453  77.13497   \n",
       "1           1                  Mahipalpur, new delhi  28.54843  77.13636   \n",
       "2           2          ROHINI (NEW DELHI), new delhi  28.73352  77.10403   \n",
       "3           3                   New Delhi, new delhi  28.63095  77.21728   \n",
       "4           4                Punjabi Bagh, new delhi  28.66634  77.12524   \n",
       "\n",
       "  Provider  \n",
       "0   arcgis  \n",
       "1   arcgis  \n",
       "2   arcgis  \n",
       "3   arcgis  \n",
       "4   arcgis  "
      ]
     },
     "execution_count": 4,
     "metadata": {},
     "output_type": "execute_result"
    }
   ],
   "source": [
    "df=pd.DataFrame(data)\n",
    "df.head()"
   ]
  },
  {
   "cell_type": "code",
   "execution_count": 5,
   "metadata": {},
   "outputs": [],
   "source": [
    "import matplotlib.pyplot as plt\n",
    "%matplotlib inline"
   ]
  },
  {
   "cell_type": "code",
   "execution_count": 6,
   "metadata": {},
   "outputs": [
    {
     "name": "stderr",
     "output_type": "stream",
     "text": [
      "/home/ashuposh/myenv/myenv/lib/python3.6/site-packages/matplotlib/cbook/deprecation.py:107: MatplotlibDeprecationWarning: Passing one of 'on', 'true', 'off', 'false' as a boolean is deprecated; use an actual boolean (True/False) instead.\n",
      "  warnings.warn(message, mplDeprecation, stacklevel=1)\n"
     ]
    },
    {
     "data": {
      "image/png": "[encoded data removed]",
      "text/plain": [
       "<Figure size 432x288 with 1 Axes>"
      ]
     },
     "metadata": {},
     "output_type": "display_data"
    }
   ],
   "source": [
    "fig=plt.figure(0)\n",
    "plt.grid(\"on\")\n",
    "plt.scatter(df['Lat'], df['Long'])\n",
    "plt.show()\n",
    "fig.savefig(\"plot.png\", bbox_inches='tight')"
   ]
  },
  {
   "cell_type": "code",
   "execution_count": 7,
   "metadata": {},
   "outputs": [
    {
     "data": {
      "text/html": [
       "<div>\n",
       "<style scoped>\n",
       "    .dataframe tbody tr th:only-of-type {\n",
       "        vertical-align: middle;\n",
       "    }\n",
       "\n",
       "    .dataframe tbody tr th {\n",
       "        vertical-align: top;\n",
       "    }\n",
       "\n",
       "    .dataframe thead th {\n",
       "        text-align: right;\n",
       "    }\n",
       "</style>\n",
       "<table border=\"1\" class=\"dataframe\">\n",
       "  <thead>\n",
       "    <tr style=\"text-align: right;\">\n",
       "      <th></th>\n",
       "      <th>Lat</th>\n",
       "      <th>Long</th>\n",
       "    </tr>\n",
       "  </thead>\n",
       "  <tbody>\n",
       "    <tr>\n",
       "      <th>0</th>\n",
       "      <td>28.68453</td>\n",
       "      <td>77.13497</td>\n",
       "    </tr>\n",
       "    <tr>\n",
       "      <th>1</th>\n",
       "      <td>28.54843</td>\n",
       "      <td>77.13636</td>\n",
       "    </tr>\n",
       "    <tr>\n",
       "      <th>2</th>\n",
       "      <td>28.73352</td>\n",
       "      <td>77.10403</td>\n",
       "    </tr>\n",
       "    <tr>\n",
       "      <th>3</th>\n",
       "      <td>28.63095</td>\n",
       "      <td>77.21728</td>\n",
       "    </tr>\n",
       "    <tr>\n",
       "      <th>4</th>\n",
       "      <td>28.66634</td>\n",
       "      <td>77.12524</td>\n",
       "    </tr>\n",
       "  </tbody>\n",
       "</table>\n",
       "</div>"
      ],
      "text/plain": [
       "        Lat      Long\n",
       "0  28.68453  77.13497\n",
       "1  28.54843  77.13636\n",
       "2  28.73352  77.10403\n",
       "3  28.63095  77.21728\n",
       "4  28.66634  77.12524"
      ]
     },
     "execution_count": 7,
     "metadata": {},
     "output_type": "execute_result"
    }
   ],
   "source": [
    "df1=pd.DataFrame()\n",
    "df1=df[['Lat','Long']]\n",
    "df1.head()"
   ]
  },
  {
   "cell_type": "code",
   "execution_count": 9,
   "metadata": {},
   "outputs": [],
   "source": [
    "from sklearn.cluster import MeanShift"
   ]
  },
  {
   "cell_type": "code",
   "execution_count": 29,
   "metadata": {},
   "outputs": [],
   "source": [
    "ms = MeanShift( bin_seeding=False, cluster_all=True, min_bin_freq=1)"
   ]
  },
  {
   "cell_type": "code",
   "execution_count": 30,
   "metadata": {},
   "outputs": [
    {
     "data": {
      "text/plain": [
       "MeanShift(bandwidth=None, bin_seeding=False, cluster_all=True, min_bin_freq=1,\n",
       "     n_jobs=1, seeds=None)"
      ]
     },
     "execution_count": 30,
     "metadata": {},
     "output_type": "execute_result"
    }
   ],
   "source": [
    "ms.fit(df1)"
   ]
  },
  {
   "cell_type": "code",
   "execution_count": 31,
   "metadata": {},
   "outputs": [],
   "source": [
    "cluster_centers = ms.cluster_centers_"
   ]
  },
  {
   "cell_type": "code",
   "execution_count": 32,
   "metadata": {},
   "outputs": [
    {
     "data": {
      "text/plain": [
       "array([[28.60584091, 77.24235061],\n",
       "       [28.66062229, 77.15247405],\n",
       "       [28.63396   , 77.47608   ],\n",
       "       [28.45303   , 77.54085   ]])"
      ]
     },
     "execution_count": 32,
     "metadata": {},
     "output_type": "execute_result"
    }
   ],
   "source": [
    "cluster_centers"
   ]
  },
  {
   "cell_type": "code",
   "execution_count": 33,
   "metadata": {},
   "outputs": [
    {
     "name": "stdout",
     "output_type": "stream",
     "text": [
      "<[OK] Osm - Reverse [National Zoological Park Delhi, route a, South East Delhi, Delhi, 110013, India]>\n",
      "<[OK] Osm - Reverse [West Delhi, Delhi, 110008, India]>\n",
      "<[OK] Osm - Reverse [Ghaziabad, Uttar Pradesh, 201001, India]>\n",
      "<[OK] Osm - Reverse [Greater Noida, Gautam Buddha Nagar, Uttar Pradesh, 201310, India]>\n"
     ]
    }
   ],
   "source": [
    "import geocoder\n",
    "for i in range(cluster_centers.shape[0]):\n",
    "    g = geocoder.osm(list(cluster_centers[i]), method='reverse')\n",
    "    print(g)\n"
   ]
  },
  {
   "cell_type": "code",
   "execution_count": null,
   "metadata": {},
   "outputs": [],
   "source": []
  }
 ],
 "metadata": {
  "kernelspec": {
   "display_name": "Python 2",
   "language": "python",
   "name": "python2"
  },
  "language_info": {
   "codemirror_mode": {
    "name": "ipython",
    "version": 3
   },
   "file_extension": ".py",
   "mimetype": "text/x-python",
   "name": "python",
   "nbconvert_exporter": "python",
   "pygments_lexer": "ipython3",
   "version": "3.6.7"
  }
 },
 "nbformat": 4,
 "nbformat_minor": 2
}
